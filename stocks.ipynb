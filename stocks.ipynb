{
 "cells": [
  {
   "cell_type": "code",
   "execution_count": 8,
   "metadata": {},
   "outputs": [],
   "source": [
    "import json\n",
    "import matplotlib.pyplot as plt\n",
    "import numpy as np\n",
    "import pandas as pd\n",
    "import yfinance as yf"
   ]
  },
  {
   "cell_type": "code",
   "execution_count": 9,
   "metadata": {},
   "outputs": [],
   "source": [
    "tickers = json.load(open('tickers.json'))"
   ]
  },
  {
   "cell_type": "code",
   "execution_count": 17,
   "metadata": {},
   "outputs": [
    {
     "name": "stderr",
     "output_type": "stream",
     "text": [
      "[*********************100%%**********************]  3 of 3 completed\n"
     ]
    },
    {
     "data": {
      "text/html": [
       "<div>\n",
       "<style scoped>\n",
       "    .dataframe tbody tr th:only-of-type {\n",
       "        vertical-align: middle;\n",
       "    }\n",
       "\n",
       "    .dataframe tbody tr th {\n",
       "        vertical-align: top;\n",
       "    }\n",
       "\n",
       "    .dataframe thead th {\n",
       "        text-align: right;\n",
       "    }\n",
       "</style>\n",
       "<table border=\"1\" class=\"dataframe\">\n",
       "  <thead>\n",
       "    <tr style=\"text-align: right;\">\n",
       "      <th>Ticker</th>\n",
       "      <th>BYDDF</th>\n",
       "      <th>IQQH.F</th>\n",
       "      <th>TSLA</th>\n",
       "    </tr>\n",
       "    <tr>\n",
       "      <th>Date</th>\n",
       "      <th></th>\n",
       "      <th></th>\n",
       "      <th></th>\n",
       "    </tr>\n",
       "  </thead>\n",
       "  <tbody>\n",
       "    <tr>\n",
       "      <th>2021-01-04</th>\n",
       "      <td>27.454693</td>\n",
       "      <td>13.486000</td>\n",
       "      <td>243.256668</td>\n",
       "    </tr>\n",
       "    <tr>\n",
       "      <th>2021-01-05</th>\n",
       "      <td>29.314371</td>\n",
       "      <td>13.652000</td>\n",
       "      <td>245.036667</td>\n",
       "    </tr>\n",
       "    <tr>\n",
       "      <th>2021-01-06</th>\n",
       "      <td>28.492199</td>\n",
       "      <td>14.940000</td>\n",
       "      <td>251.993332</td>\n",
       "    </tr>\n",
       "    <tr>\n",
       "      <th>2021-01-07</th>\n",
       "      <td>30.361662</td>\n",
       "      <td>16.091999</td>\n",
       "      <td>272.013336</td>\n",
       "    </tr>\n",
       "    <tr>\n",
       "      <th>2021-01-08</th>\n",
       "      <td>30.733597</td>\n",
       "      <td>15.550000</td>\n",
       "      <td>293.339996</td>\n",
       "    </tr>\n",
       "    <tr>\n",
       "      <th>...</th>\n",
       "      <td>...</td>\n",
       "      <td>...</td>\n",
       "      <td>...</td>\n",
       "    </tr>\n",
       "    <tr>\n",
       "      <th>2024-07-08</th>\n",
       "      <td>29.760000</td>\n",
       "      <td>7.326000</td>\n",
       "      <td>252.940002</td>\n",
       "    </tr>\n",
       "    <tr>\n",
       "      <th>2024-07-09</th>\n",
       "      <td>30.280001</td>\n",
       "      <td>7.275000</td>\n",
       "      <td>262.329987</td>\n",
       "    </tr>\n",
       "    <tr>\n",
       "      <th>2024-07-10</th>\n",
       "      <td>30.719999</td>\n",
       "      <td>7.316000</td>\n",
       "      <td>263.260010</td>\n",
       "    </tr>\n",
       "    <tr>\n",
       "      <th>2024-07-11</th>\n",
       "      <td>31.280001</td>\n",
       "      <td>7.481000</td>\n",
       "      <td>241.029999</td>\n",
       "    </tr>\n",
       "    <tr>\n",
       "      <th>2024-07-12</th>\n",
       "      <td>31.510000</td>\n",
       "      <td>7.587000</td>\n",
       "      <td>248.229996</td>\n",
       "    </tr>\n",
       "  </tbody>\n",
       "</table>\n",
       "<p>912 rows × 3 columns</p>\n",
       "</div>"
      ],
      "text/plain": [
       "Ticker          BYDDF     IQQH.F        TSLA\n",
       "Date                                        \n",
       "2021-01-04  27.454693  13.486000  243.256668\n",
       "2021-01-05  29.314371  13.652000  245.036667\n",
       "2021-01-06  28.492199  14.940000  251.993332\n",
       "2021-01-07  30.361662  16.091999  272.013336\n",
       "2021-01-08  30.733597  15.550000  293.339996\n",
       "...               ...        ...         ...\n",
       "2024-07-08  29.760000   7.326000  252.940002\n",
       "2024-07-09  30.280001   7.275000  262.329987\n",
       "2024-07-10  30.719999   7.316000  263.260010\n",
       "2024-07-11  31.280001   7.481000  241.029999\n",
       "2024-07-12  31.510000   7.587000  248.229996\n",
       "\n",
       "[912 rows x 3 columns]"
      ]
     },
     "execution_count": 17,
     "metadata": {},
     "output_type": "execute_result"
    }
   ],
   "source": [
    "data = yf.download(tickers[:3], start='2021-01-01')\n",
    "data['Adj Close']"
   ]
  },
  {
   "cell_type": "code",
   "execution_count": null,
   "metadata": {},
   "outputs": [],
   "source": []
  }
 ],
 "metadata": {
  "kernelspec": {
   "display_name": "venv",
   "language": "python",
   "name": "python3"
  },
  "language_info": {
   "codemirror_mode": {
    "name": "ipython",
    "version": 3
   },
   "file_extension": ".py",
   "mimetype": "text/x-python",
   "name": "python",
   "nbconvert_exporter": "python",
   "pygments_lexer": "ipython3",
   "version": "3.10.6"
  }
 },
 "nbformat": 4,
 "nbformat_minor": 2
}
